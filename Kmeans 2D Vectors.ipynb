{
 "cells": [
  {
   "cell_type": "code",
   "execution_count": 1,
   "metadata": {},
   "outputs": [],
   "source": [
    "#import library\n",
    "import numpy as np\n",
    "import matplotlib.pyplot as plt\n",
    "from matplotlib import style\n",
    "style.use(\"ggplot\")\n",
    "from sklearn.cluster import KMeans"
   ]
  },
  {
   "cell_type": "code",
   "execution_count": 7,
   "metadata": {},
   "outputs": [
    {
     "data": {
      "image/png": "[encoded data removed]",
      "text/plain": [
       "<Figure size 432x288 with 1 Axes>"
      ]
     },
     "metadata": {
      "needs_background": "light"
     },
     "output_type": "display_data"
    }
   ],
   "source": [
    "#input dataset\n",
    "x = [1, 5, 1.5, 8, 1, 9]\n",
    "y = [2, 8, 1.8, 8, 0.6, 11]\n",
    "\n",
    "plt.scatter(x,y)\n",
    "plt.show()"
   ]
  },
  {
   "cell_type": "code",
   "execution_count": 8,
   "metadata": {},
   "outputs": [],
   "source": [
    "#wrappping dataset into np\n",
    "input_dataset_array = np.array([[1, 2],\n",
    "              [5, 8],\n",
    "              [1.5, 1.8],\n",
    "              [8, 8],\n",
    "              [1, 0.6],\n",
    "              [9, 11]])"
   ]
  },
  {
   "cell_type": "code",
   "execution_count": 10,
   "metadata": {},
   "outputs": [],
   "source": [
    "#kmeans computation here\n",
    "kmeans = KMeans(n_clusters=2)\n",
    "kmeans.fit(input_dataset_array)\n",
    "\n",
    "#getting the results\n",
    "centroids = kmeans.cluster_centers_\n",
    "labels = kmeans.labels_\n"
   ]
  },
  {
   "cell_type": "code",
   "execution_count": 11,
   "metadata": {},
   "outputs": [
    {
     "name": "stdout",
     "output_type": "stream",
     "text": [
      "[[1.16666667 1.46666667]\n",
      " [7.33333333 9.        ]]\n",
      "[0 1 0 1 0 1]\n"
     ]
    }
   ],
   "source": [
    "print(centroids)\n",
    "print(labels)"
   ]
  },
  {
   "cell_type": "code",
   "execution_count": 15,
   "metadata": {},
   "outputs": [
    {
     "name": "stdout",
     "output_type": "stream",
     "text": [
      "coordinate: [1. 2.] label: 0\n",
      "coordinate: [5. 8.] label: 1\n",
      "coordinate: [1.5 1.8] label: 0\n",
      "coordinate: [8. 8.] label: 1\n",
      "coordinate: [1.  0.6] label: 0\n",
      "coordinate: [ 9. 11.] label: 1\n"
     ]
    },
    {
     "data": {
      "image/png": "[encoded data removed]",
      "text/plain": [
       "<Figure size 432x288 with 1 Axes>"
      ]
     },
     "metadata": {
      "needs_background": "light"
     },
     "output_type": "display_data"
    }
   ],
   "source": [
    "colors = [\"g.\",\"r.\",\"c.\",\"y.\"]\n",
    "\n",
    "for i in range(len(input_dataset_array)):\n",
    "    print(\"coordinate:\",input_dataset_array[i], \"label:\", labels[i])\n",
    "    plt.plot(input_dataset_array[i][0], input_dataset_array[i][1], colors[labels[i]], markersize = 10)\n",
    "\n",
    "\n",
    "plt.scatter(centroids[:, 0],centroids[:, 1], marker = \"x\", s=150, linewidths = 5, zorder = 10)\n",
    "\n",
    "plt.show()"
   ]
  },
  {
   "cell_type": "code",
   "execution_count": null,
   "metadata": {},
   "outputs": [],
   "source": []
  }
 ],
 "metadata": {
  "kernelspec": {
   "display_name": "Python 3",
   "language": "python",
   "name": "python3"
  },
  "language_info": {
   "codemirror_mode": {
    "name": "ipython",
    "version": 3
   },
   "file_extension": ".py",
   "mimetype": "text/x-python",
   "name": "python",
   "nbconvert_exporter": "python",
   "pygments_lexer": "ipython3",
   "version": "3.7.0"
  }
 },
 "nbformat": 4,
 "nbformat_minor": 2
}
